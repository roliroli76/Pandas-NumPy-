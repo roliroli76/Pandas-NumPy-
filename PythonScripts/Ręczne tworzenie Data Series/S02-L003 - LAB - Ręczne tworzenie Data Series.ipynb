{
 "cells": [
  {
   "cell_type": "code",
   "execution_count": 1,
   "id": "e0ca534d-d70f-4896-8f8c-fca542f40fca",
   "metadata": {},
   "outputs": [],
   "source": [
    "import pandas as pd\n",
    "import numpy as np\n",
    "import matplotlib.pyplot as plt\n",
    "import math as math"
   ]
  },
  {
   "cell_type": "code",
   "execution_count": 3,
   "id": "6c154a2a-0ffe-41d5-a7bb-995bd62ca05c",
   "metadata": {},
   "outputs": [],
   "source": [
    "weekdays = ['Monday', 'Tuesday', 'Wednesday', 'Thursday', 'Friday', 'Saturday', 'Sunday']"
   ]
  },
  {
   "cell_type": "code",
   "execution_count": 4,
   "id": "16d767b6-86d8-4545-958c-3f20a5ff9ff6",
   "metadata": {},
   "outputs": [],
   "source": [
    "weekdaysSeries = pd.Series(weekdays)"
   ]
  },
  {
   "cell_type": "code",
   "execution_count": 5,
   "id": "9ad78ebb-80a3-4da5-8faf-5e3a747f73c9",
   "metadata": {},
   "outputs": [
    {
     "data": {
      "text/plain": [
       "0       Monday\n",
       "1      Tuesday\n",
       "2    Wednesday\n",
       "3     Thursday\n",
       "4       Friday\n",
       "5     Saturday\n",
       "6       Sunday\n",
       "dtype: object"
      ]
     },
     "execution_count": 5,
     "metadata": {},
     "output_type": "execute_result"
    }
   ],
   "source": [
    "weekdaysSeries"
   ]
  },
  {
   "cell_type": "code",
   "execution_count": 6,
   "id": "938219f7-ba07-44e1-981f-c18271790f93",
   "metadata": {},
   "outputs": [],
   "source": [
    "freeDays = [False, False, False, False, False, True, True]\n"
   ]
  },
  {
   "cell_type": "code",
   "execution_count": 7,
   "id": "5b8b35f0-af30-4742-b2d8-d0c31bbf768b",
   "metadata": {},
   "outputs": [],
   "source": [
    "freeDaysSeries = pd.Series(freeDays)"
   ]
  },
  {
   "cell_type": "code",
   "execution_count": 8,
   "id": "4df63d38-1efb-4750-b4eb-8eb93b49c077",
   "metadata": {},
   "outputs": [
    {
     "data": {
      "text/plain": [
       "0    False\n",
       "1    False\n",
       "2    False\n",
       "3    False\n",
       "4    False\n",
       "5     True\n",
       "6     True\n",
       "dtype: bool"
      ]
     },
     "execution_count": 8,
     "metadata": {},
     "output_type": "execute_result"
    }
   ],
   "source": [
    "freeDaysSeries"
   ]
  },
  {
   "cell_type": "code",
   "execution_count": 9,
   "id": "27adcb04-2a5f-44b0-90d6-f13ca2500e15",
   "metadata": {},
   "outputs": [],
   "source": [
    "holidays = {'New Year' : '2018-01-01',\n",
    "            'Epiphany' : '2018-01-06',\n",
    "            'Easter' : '2018-04-01'}\n"
   ]
  },
  {
   "cell_type": "code",
   "execution_count": 10,
   "id": "882683f9-1727-42ff-9dba-22f343104864",
   "metadata": {},
   "outputs": [],
   "source": [
    "holidaysSeries = pd.Series(holidays)"
   ]
  },
  {
   "cell_type": "code",
   "execution_count": 11,
   "id": "47a3b326-c526-46db-9cb6-4e9ac17a405c",
   "metadata": {},
   "outputs": [
    {
     "data": {
      "text/plain": [
       "New Year    2018-01-01\n",
       "Epiphany    2018-01-06\n",
       "Easter      2018-04-01\n",
       "dtype: object"
      ]
     },
     "execution_count": 11,
     "metadata": {},
     "output_type": "execute_result"
    }
   ],
   "source": [
    "holidaysSeries"
   ]
  },
  {
   "cell_type": "code",
   "execution_count": null,
   "id": "46ea4ac7-75f7-4693-9ec8-9c62ab779b7c",
   "metadata": {},
   "outputs": [],
   "source": []
  }
 ],
 "metadata": {
  "kernelspec": {
   "display_name": "Python 3 (ipykernel)",
   "language": "python",
   "name": "python3"
  },
  "language_info": {
   "codemirror_mode": {
    "name": "ipython",
    "version": 3
   },
   "file_extension": ".py",
   "mimetype": "text/x-python",
   "name": "python",
   "nbconvert_exporter": "python",
   "pygments_lexer": "ipython3",
   "version": "3.11.7"
  }
 },
 "nbformat": 4,
 "nbformat_minor": 5
}
