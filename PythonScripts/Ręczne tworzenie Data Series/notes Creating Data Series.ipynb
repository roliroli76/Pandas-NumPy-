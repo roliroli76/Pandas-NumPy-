{
 "cells": [
  {
   "cell_type": "markdown",
   "id": "f27bbc8a-4905-4ddd-98e5-06163547d4e6",
   "metadata": {},
   "source": [
    "# notes Creating Data Series"
   ]
  },
  {
   "cell_type": "code",
   "execution_count": 1,
   "id": "d41388ac-0a75-45e6-9110-bf124cf6572b",
   "metadata": {},
   "outputs": [],
   "source": [
    "import pandas as pd\n",
    "import numpy as np\n",
    "import matplotlib.pyplot as plt\n",
    "import math as math"
   ]
  },
  {
   "cell_type": "markdown",
   "id": "3f21688e-744e-401a-8c88-673a26e9f4ac",
   "metadata": {},
   "source": [
    "## The first method of creating a data series is to initialize them with some form of list"
   ]
  },
  {
   "cell_type": "code",
   "execution_count": 2,
   "id": "d28e314f-5365-43dd-acd6-be1b0513ef55",
   "metadata": {},
   "outputs": [
    {
     "data": {
      "text/plain": [
       "['London', 'Berlin', 'Warsaw', 'Paris']"
      ]
     },
     "execution_count": 2,
     "metadata": {},
     "output_type": "execute_result"
    }
   ],
   "source": [
    "cities = ['London', 'Berlin', 'Warsaw', 'Paris']\n",
    "cities"
   ]
  },
  {
   "cell_type": "code",
   "execution_count": 3,
   "id": "dd44e3cd-7a4d-4f18-8794-711d0dbb2d5a",
   "metadata": {},
   "outputs": [
    {
     "data": {
      "text/plain": [
       "0    London\n",
       "1    Berlin\n",
       "2    Warsaw\n",
       "3     Paris\n",
       "dtype: object"
      ]
     },
     "execution_count": 3,
     "metadata": {},
     "output_type": "execute_result"
    }
   ],
   "source": [
    "pd.Series(cities)"
   ]
  },
  {
   "cell_type": "code",
   "execution_count": 4,
   "id": "bd2ceed9-bd1d-43c4-94c7-10d8ce37cc04",
   "metadata": {},
   "outputs": [
    {
     "data": {
      "text/plain": [
       "0     2\n",
       "1     3\n",
       "2     5\n",
       "3     7\n",
       "4    11\n",
       "5    13\n",
       "6    17\n",
       "7    19\n",
       "dtype: int64"
      ]
     },
     "execution_count": 4,
     "metadata": {},
     "output_type": "execute_result"
    }
   ],
   "source": [
    "primeNumbers = (2, 3, 5, 7, 11, 13, 17, 19)\n",
    "pd.Series(primeNumbers)"
   ]
  },
  {
   "cell_type": "code",
   "execution_count": 5,
   "id": "34269350-c56d-4cb9-a24a-dab28c33cf65",
   "metadata": {},
   "outputs": [
    {
     "data": {
      "text/plain": [
       "0     True\n",
       "1     True\n",
       "2    False\n",
       "dtype: bool"
      ]
     },
     "execution_count": 5,
     "metadata": {},
     "output_type": "execute_result"
    }
   ],
   "source": [
    "logicalValues = [True, True, False]\n",
    "pd.Series(logicalValues)"
   ]
  },
  {
   "cell_type": "markdown",
   "id": "e76181d3-ee1e-4e8a-b408-b6e4a57acc4f",
   "metadata": {},
   "source": [
    "## with a hash table (dictionary), the index is the key in our case (strings or objects), and the data is the dictionary value"
   ]
  },
  {
   "cell_type": "code",
   "execution_count": 6,
   "id": "06090003-f014-49b3-8fb3-a6b2b75e725f",
   "metadata": {},
   "outputs": [
    {
     "data": {
      "text/plain": [
       "{'Jaws': 1975,\n",
       " '1941': 1979,\n",
       " 'Indiana Jones and the Raiders of the Lost Ark': 1981,\n",
       " 'E.T. the Extra-Terrestrial': 1982}"
      ]
     },
     "execution_count": 6,
     "metadata": {},
     "output_type": "execute_result"
    }
   ],
   "source": [
    "SpielbergFilmography = {'Jaws' : 1975,\n",
    "                        '1941' : 1979,\n",
    "                        'Indiana Jones and the Raiders of the Lost Ark' : 1981,\n",
    "                        'E.T. the Extra-Terrestrial' : 1982}\n",
    "SpielbergFilmography"
   ]
  },
  {
   "cell_type": "code",
   "execution_count": 7,
   "id": "8dd3e9aa-5b7d-44d2-803e-c512b496ec5b",
   "metadata": {},
   "outputs": [
    {
     "data": {
      "text/plain": [
       "Jaws                                             1975\n",
       "1941                                             1979\n",
       "Indiana Jones and the Raiders of the Lost Ark    1981\n",
       "E.T. the Extra-Terrestrial                       1982\n",
       "dtype: int64"
      ]
     },
     "execution_count": 7,
     "metadata": {},
     "output_type": "execute_result"
    }
   ],
   "source": [
    "pd.Series(SpielbergFilmography)"
   ]
  },
  {
   "cell_type": "code",
   "execution_count": null,
   "id": "008fe5aa-0aab-4860-bc32-4d234696df13",
   "metadata": {},
   "outputs": [],
   "source": []
  }
 ],
 "metadata": {
  "kernelspec": {
   "display_name": "Python 3 (ipykernel)",
   "language": "python",
   "name": "python3"
  },
  "language_info": {
   "codemirror_mode": {
    "name": "ipython",
    "version": 3
   },
   "file_extension": ".py",
   "mimetype": "text/x-python",
   "name": "python",
   "nbconvert_exporter": "python",
   "pygments_lexer": "ipython3",
   "version": "3.11.7"
  }
 },
 "nbformat": 4,
 "nbformat_minor": 5
}
