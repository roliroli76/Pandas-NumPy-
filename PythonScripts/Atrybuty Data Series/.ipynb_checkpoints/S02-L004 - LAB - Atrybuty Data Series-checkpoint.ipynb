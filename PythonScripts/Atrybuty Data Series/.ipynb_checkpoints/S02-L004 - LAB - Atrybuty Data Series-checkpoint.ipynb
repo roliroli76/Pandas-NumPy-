{
 "cells": [
  {
   "cell_type": "code",
   "execution_count": 2,
   "id": "82dd21d9-37ba-445c-97c9-943e82103ae9",
   "metadata": {},
   "outputs": [],
   "source": [
    "import pandas as pd\n",
    "import numpy as np\n",
    "import matplotlib as plt\n",
    "import math as math\n",
    "import random as rnd"
   ]
  },
  {
   "cell_type": "code",
   "execution_count": 12,
   "id": "90cf305e-3f2a-45a7-9e96-07e4a49de61e",
   "metadata": {},
   "outputs": [],
   "source": [
    "dataAsFloatList = []\n",
    "i = 1\n",
    "while i < 100000:\n",
    "    value = i * rnd.random()\n",
    "    dataAsFloatList.append(value)\n",
    "    i+=1\n",
    "dataAsFloatSeries = pd.Series(dataAsFloatList)"
   ]
  },
  {
   "cell_type": "code",
   "execution_count": 13,
   "id": "893ee158-00c4-417e-986c-fea4c11e1684",
   "metadata": {},
   "outputs": [
    {
     "data": {
      "text/plain": [
       "99999"
      ]
     },
     "execution_count": 13,
     "metadata": {},
     "output_type": "execute_result"
    }
   ],
   "source": [
    "dataAsFloatSeries.size"
   ]
  },
  {
   "cell_type": "code",
   "execution_count": 14,
   "id": "83c470c0-f21a-41f5-821c-d76f30c34945",
   "metadata": {},
   "outputs": [
    {
     "data": {
      "text/plain": [
       "799992"
      ]
     },
     "execution_count": 14,
     "metadata": {},
     "output_type": "execute_result"
    }
   ],
   "source": [
    "dataAsFloatSeries.nbytes"
   ]
  },
  {
   "cell_type": "code",
   "execution_count": 15,
   "id": "ea941f5d-ce8b-4757-95f8-4e1044261b03",
   "metadata": {},
   "outputs": [
    {
     "data": {
      "text/plain": [
       "(99999,)"
      ]
     },
     "execution_count": 15,
     "metadata": {},
     "output_type": "execute_result"
    }
   ],
   "source": [
    "dataAsFloatSeries.shape"
   ]
  },
  {
   "cell_type": "code",
   "execution_count": 16,
   "id": "c9069f04-6c8f-4443-b560-69a1dbf27313",
   "metadata": {},
   "outputs": [
    {
     "data": {
      "text/plain": [
       "[RangeIndex(start=0, stop=99999, step=1)]"
      ]
     },
     "execution_count": 16,
     "metadata": {},
     "output_type": "execute_result"
    }
   ],
   "source": [
    "dataAsFloatSeries.axes"
   ]
  },
  {
   "cell_type": "code",
   "execution_count": 17,
   "id": "09aa9911-3147-4208-93bd-32eae2a1db71",
   "metadata": {},
   "outputs": [
    {
     "data": {
      "text/plain": [
       "dtype('float64')"
      ]
     },
     "execution_count": 17,
     "metadata": {},
     "output_type": "execute_result"
    }
   ],
   "source": [
    "dataAsFloatSeries.dtype"
   ]
  },
  {
   "cell_type": "code",
   "execution_count": 18,
   "id": "8d14ecfd-e368-44f8-87c3-e95461be6800",
   "metadata": {},
   "outputs": [
    {
     "data": {
      "text/plain": [
       "RangeIndex(start=0, stop=99999, step=1)"
      ]
     },
     "execution_count": 18,
     "metadata": {},
     "output_type": "execute_result"
    }
   ],
   "source": [
    "dataAsFloatSeries.index"
   ]
  },
  {
   "cell_type": "code",
   "execution_count": 19,
   "id": "92f4965e-644c-4eed-ae11-3464e9546960",
   "metadata": {},
   "outputs": [
    {
     "data": {
      "text/plain": [
       "True"
      ]
     },
     "execution_count": 19,
     "metadata": {},
     "output_type": "execute_result"
    }
   ],
   "source": [
    "dataAsFloatSeries.is_unique"
   ]
  },
  {
   "cell_type": "code",
   "execution_count": 20,
   "id": "6c0c5649-f81e-4bfd-8f2a-7cdeb5f73a35",
   "metadata": {},
   "outputs": [
    {
     "data": {
      "text/plain": [
       "False"
      ]
     },
     "execution_count": 20,
     "metadata": {},
     "output_type": "execute_result"
    }
   ],
   "source": [
    "dataAsFloatSeries.is_monotonic_increasing"
   ]
  },
  {
   "cell_type": "code",
   "execution_count": 21,
   "id": "cbb53bd7-69a4-486f-9888-f24658db9965",
   "metadata": {},
   "outputs": [
    {
     "data": {
      "text/plain": [
       "False"
      ]
     },
     "execution_count": 21,
     "metadata": {},
     "output_type": "execute_result"
    }
   ],
   "source": [
    "dataAsFloatSeries.is_monotonic_decreasing"
   ]
  },
  {
   "cell_type": "code",
   "execution_count": 22,
   "id": "adbc0543-9e67-4624-88cd-81dfb853866a",
   "metadata": {},
   "outputs": [],
   "source": [
    "dataAsStringList = []\n",
    "for i in range(100000):\n",
    "    dataAsStringList.append(str(i*rnd.random()))\n",
    "dataAsStringSeries = pd.Series(dataAsStringList)"
   ]
  },
  {
   "cell_type": "code",
   "execution_count": 24,
   "id": "3d5e7303-f6de-4792-b08d-9ff122740988",
   "metadata": {},
   "outputs": [
    {
     "data": {
      "text/plain": [
       "100000"
      ]
     },
     "execution_count": 24,
     "metadata": {},
     "output_type": "execute_result"
    }
   ],
   "source": [
    "dataAsStringSeries.size\n",
    "\n"
   ]
  },
  {
   "cell_type": "code",
   "execution_count": 25,
   "id": "486a63d4-e977-46ea-80d6-eac0153a570b",
   "metadata": {},
   "outputs": [
    {
     "data": {
      "text/plain": [
       "800000"
      ]
     },
     "execution_count": 25,
     "metadata": {},
     "output_type": "execute_result"
    }
   ],
   "source": [
    "dataAsStringSeries.nbytes"
   ]
  },
  {
   "cell_type": "code",
   "execution_count": 26,
   "id": "f9503744-d79e-4ecb-b1df-515696cf612d",
   "metadata": {},
   "outputs": [
    {
     "data": {
      "text/plain": [
       "dtype('O')"
      ]
     },
     "execution_count": 26,
     "metadata": {},
     "output_type": "execute_result"
    }
   ],
   "source": [
    "dataAsStringSeries.dtype"
   ]
  },
  {
   "cell_type": "markdown",
   "id": "ed802a07-569c-459d-afe9-23612562919f",
   "metadata": {},
   "source": [
    "**nbytes** jest szybka, ale dokładna tylko z grubsza, dokładniejsze wyniki osiągnać można korzystając z metod opisanych później"
   ]
  },
  {
   "cell_type": "code",
   "execution_count": null,
   "id": "c7bdf285-f52e-4f1e-8d48-6da4d6be7e02",
   "metadata": {},
   "outputs": [],
   "source": []
  }
 ],
 "metadata": {
  "kernelspec": {
   "display_name": "Python 3 (ipykernel)",
   "language": "python",
   "name": "python3"
  },
  "language_info": {
   "codemirror_mode": {
    "name": "ipython",
    "version": 3
   },
   "file_extension": ".py",
   "mimetype": "text/x-python",
   "name": "python",
   "nbconvert_exporter": "python",
   "pygments_lexer": "ipython3",
   "version": "3.11.7"
  }
 },
 "nbformat": 4,
 "nbformat_minor": 5
}
